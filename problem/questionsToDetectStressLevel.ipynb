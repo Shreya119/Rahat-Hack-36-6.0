{
  "nbformat": 4,
  "nbformat_minor": 0,
  "metadata": {
    "colab": {
      "provenance": []
    },
    "kernelspec": {
      "name": "python3",
      "display_name": "Python 3"
    }
  },
  "cells": [
    {
      "cell_type": "code",
      "metadata": {
        "id": "zWgdPWQuFEqz"
      },
      "source": [
        "import pandas as pd\n",
        "import tensorflow as tf\n",
        "import tensorflow_hub as hub\n",
        "import numpy as np\n",
        "#train_data = pd.read_csv('/content/train.txt', sep = ';')\n",
        "#train_data.head()"
      ],
      "execution_count": null,
      "outputs": []
    },
    {
      "cell_type": "code",
      "metadata": {
        "id": "ndCqh9sJF2Iz"
      },
      "source": [
        "def preprocess(file):\n",
        "    path = '/content/'+file+'.txt'\n",
        "    data = pd.read_csv(path, sep = ';')\n",
        "    hos = []\n",
        "    for i in range(len(data.emotion)):\n",
        "        if data['emotion'][i] in ['joy', 'love', 'surprise']:\n",
        "            hos.append(1) # happy is 1\n",
        "        else:\n",
        "            hos.append(0) # sad is 0\n",
        "    data['hos'] = hos\n",
        "    return data"
      ],
      "execution_count": null,
      "outputs": []
    },
    {
      "cell_type": "code",
      "metadata": {
        "id": "xgvMiizOFutx"
      },
      "source": [
        "train_data = preprocess('train')\n",
        "train = train_data.copy()"
      ],
      "execution_count": null,
      "outputs": []
    },
    {
      "cell_type": "code",
      "metadata": {
        "id": "kjut5GdHGCrs"
      },
      "source": [
        "model = \"https://tfhub.dev/google/tf2-preview/gnews-swivel-20dim/1\"\n",
        "hub_layer = hub.KerasLayer(model, output_shape=[20], input_shape=[], dtype=tf.string, trainable=True)"
      ],
      "execution_count": null,
      "outputs": []
    },
    {
      "cell_type": "code",
      "metadata": {
        "id": "Q9XvDU9bG1ri",
        "colab": {
          "base_uri": "https://localhost:8080/"
        },
        "outputId": "8358c341-02e5-47da-84d5-d534b610f29e"
      },
      "source": [
        "model = tf.keras.Sequential()\n",
        "model.add(hub_layer)\n",
        "model.add(tf.keras.layers.Dense(16, activation='relu'))\n",
        "model.add(tf.keras.layers.Dense(1))"
      ],
      "execution_count": null,
      "outputs": [
        {
          "output_type": "stream",
          "name": "stderr",
          "text": [
            "WARNING:tensorflow:From /usr/local/lib/python3.9/dist-packages/tensorflow/python/autograph/pyct/static_analysis/liveness.py:83: Analyzer.lamba_check (from tensorflow.python.autograph.pyct.static_analysis.liveness) is deprecated and will be removed after 2023-09-23.\n",
            "Instructions for updating:\n",
            "Lambda fuctions will be no more assumed to be used in the statement where they are used, or at least in the same block. https://github.com/tensorflow/tensorflow/issues/56089\n"
          ]
        }
      ]
    },
    {
      "cell_type": "code",
      "metadata": {
        "id": "3o6sq42vG6ng"
      },
      "source": [
        "model.compile(optimizer='adam',\n",
        "              loss=tf.losses.BinaryCrossentropy(from_logits=True),\n",
        "              metrics=[tf.metrics.BinaryAccuracy(threshold=0.0, name='accuracy')])"
      ],
      "execution_count": null,
      "outputs": []
    },
    {
      "cell_type": "code",
      "metadata": {
        "id": "UYZ3lBE6HaNT"
      },
      "source": [
        "val = preprocess('val')"
      ],
      "execution_count": null,
      "outputs": []
    },
    {
      "cell_type": "code",
      "metadata": {
        "id": "KqRgsDlHHJhl"
      },
      "source": [
        "history = model.fit(train.text,\n",
        "                    train.hos,\n",
        "                    epochs=40,\n",
        "                    batch_size=512,\n",
        "                    validation_data=(val.text, val.hos),\n",
        "                    verbose = 0)"
      ],
      "execution_count": null,
      "outputs": []
    },
    {
      "cell_type": "code",
      "metadata": {
        "id": "UwBAKcxVIY53",
        "colab": {
          "base_uri": "https://localhost:8080/"
        },
        "outputId": "a23387b2-7867-4a40-98ac-989cfd4ee1fe"
      },
      "source": [
        "test = preprocess('test')\n",
        "results = model.evaluate(test['text'], test['hos'])\n",
        "\n",
        "print(results)"
      ],
      "execution_count": null,
      "outputs": [
        {
          "output_type": "stream",
          "name": "stdout",
          "text": [
            "1/1 [==============================] - 0s 29ms/step - loss: 0.0542 - accuracy: 1.0000\n",
            "[0.05420124903321266, 1.0]\n"
          ]
        }
      ]
    },
    {
      "cell_type": "code",
      "metadata": {
        "id": "ZyY7dI6Oir8X",
        "colab": {
          "base_uri": "https://localhost:8080/"
        },
        "outputId": "0ec34d63-9d36-427e-c8b8-631df3efd579"
      },
      "source": [
        "predstr = model.predict(train.text)"
      ],
      "execution_count": null,
      "outputs": [
        {
          "output_type": "stream",
          "name": "stdout",
          "text": [
            "500/500 [==============================] - 1s 2ms/step\n"
          ]
        }
      ]
    },
    {
      "cell_type": "code",
      "metadata": {
        "id": "IgtLabqNkd98"
      },
      "source": [
        "def postprocessor(preds):\n",
        "  range = predstr.max()-predstr.min()\n",
        "  norm_preds = []\n",
        "  probab = []\n",
        "  for i in preds:\n",
        "    norm_preds.append((i - predstr.min()) / range)\n",
        "    probab.append((i - predstr.min()) * 100 / range)\n",
        "  return np.mean(probab)#, probab"
      ],
      "execution_count": null,
      "outputs": []
    },
    {
      "cell_type": "code",
      "metadata": {
        "id": "gtv8qk8Wp2c9"
      },
      "source": [
        "answers = []\n",
        "answers.append(input('How would you describe your experience at your workplace/college/school in the past few days?'))\n",
        "answers.append(input('How do you like to spend your leisure time? How do you feel after it?'))\n",
        "answers.append(input('Life has its ups and downs. Although handling successes can be difficult, setbacks can affect mental health strongly. How do you manage your emotions after failures?'))\n",
        "#answers.append(input('Any recent pleasant experience that you would like to share?'))\n",
        "#answers.append(input('Any recent unpleasant experience that you would like to share?'))\n",
        "answers.append(input('In a broad sense, how would you describe the way your life is going on?'))\n",
        "#answers.append(input('How would you describe your experience at your workplace/college/school in the past few days?'))\n",
        "results = model.predict(answers)\n",
        "print('Your mental health score is:', postprocessor(results))"
      ],
      "execution_count": null,
      "outputs": []
    },
    {
      "cell_type": "code",
      "metadata": {
        "id": "gf6knpDq8sMn"
      },
      "source": [],
      "execution_count": null,
      "outputs": []
    }
  ]
}